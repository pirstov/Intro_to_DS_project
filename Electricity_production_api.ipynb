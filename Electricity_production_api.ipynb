{
 "cells": [
  {
   "cell_type": "code",
   "execution_count": 56,
   "metadata": {},
   "outputs": [
    {
     "name": "stdout",
     "output_type": "stream",
     "text": [
      "     datasetId                 startTime                   endTime     value\n",
      "0          242  2024-10-09T20:45:00.000Z  2024-10-09T21:00:00.000Z  10886.90\n",
      "1          242  2024-10-09T20:30:00.000Z  2024-10-09T20:45:00.000Z  10894.30\n",
      "2          242  2024-10-09T20:15:00.000Z  2024-10-09T20:30:00.000Z  10901.90\n",
      "3          242  2024-10-09T20:00:00.000Z  2024-10-09T20:15:00.000Z  10906.00\n",
      "4          242  2024-10-09T19:45:00.000Z  2024-10-09T20:00:00.000Z  11084.50\n",
      "..         ...                       ...                       ...       ...\n",
      "124        242  2024-10-08T13:45:00.000Z  2024-10-08T14:00:00.000Z   9746.83\n",
      "125        242  2024-10-08T13:30:00.000Z  2024-10-08T13:45:00.000Z   9723.72\n",
      "126        242  2024-10-08T13:15:00.000Z  2024-10-08T13:30:00.000Z   9700.34\n",
      "127        242  2024-10-08T13:00:00.000Z  2024-10-08T13:15:00.000Z   9677.64\n",
      "128        242  2024-10-08T12:45:00.000Z  2024-10-08T13:00:00.000Z   9485.86\n",
      "\n",
      "[129 rows x 4 columns]\n"
     ]
    }
   ],
   "source": [
    "import sys\n",
    "import requests\n",
    "import json\n",
    "from datetime import datetime\n",
    "from dateutil.relativedelta import relativedelta\n",
    "import pandas as pd\n",
    "import matplotlib as plt\n",
    "import matplotlib.pyplot as pyplot\n",
    "import os\n",
    "\n",
    "# Electricity production prediction - premilinary: https://data.fingrid.fi/en/datasets/242\n",
    "\n",
    "api_key = '3010957519b04fdc94439b784a78d4fe'\n",
    "\n",
    "ts=datetime.now()\n",
    "\n",
    "ts1=ts+relativedelta(hours=-24)\n",
    "ts2=ts+relativedelta(hours=24)\n",
    "\n",
    "# Creating start and end time variables\n",
    "dt_str1 = ts1.strftime(\"%Y-%m-%dT%H:%M:%S.000Z\")\n",
    "dt_str2 = ts2.strftime(\"%Y-%m-%dT%H:%M:%S.000Z\")\n",
    "\n",
    "url='https://data.fingrid.fi/api/datasets/242/data'\n",
    "\n",
    "headers ={'x-api-key': api_key}\n",
    "\n",
    "params={'startTime': dt_str1, 'endTime': dt_str2, 'pageSize': 2000}\n",
    "\n",
    "response = requests.get(url, headers=headers,params=params)\n",
    "x = response.json()\n",
    "epr_pred_df = pd.DataFrame(x['data'])\n",
    "print(epr_pred_df)"
   ]
  },
  {
   "cell_type": "code",
   "execution_count": 57,
   "metadata": {},
   "outputs": [
    {
     "name": "stdout",
     "output_type": "stream",
     "text": [
      "                  Aika  Tuotanto (kW)\n",
      "0  2024-10-09 21:00:00     10886900.0\n",
      "1  2024-10-09 20:45:00     10894300.0\n",
      "2  2024-10-09 20:30:00     10901900.0\n",
      "3  2024-10-09 20:15:00     10906000.0\n",
      "4  2024-10-09 20:00:00     11084500.0\n"
     ]
    }
   ],
   "source": [
    "# Let's drop the first column\n",
    "epr_pred_df = epr_pred_df.drop(['datasetId'], axis=1)\n",
    "\n",
    "# Changing the names of the columns\n",
    "epr_pred_columns = ['Aika', 'Tuotanto (MW)']\n",
    "\n",
    "if epr_pred_df.columns.tolist() != epr_pred_columns:\n",
    "    epr_pred_df.columns = ['Ylimääräinen', 'Aika', 'Tuotanto (MW)']\n",
    "\n",
    "epr_pred_df = epr_pred_df[epr_pred_columns]\n",
    "\n",
    "# Changing MW to kW\n",
    "epr_pred_df['Tuotanto (MW)'] = epr_pred_df['Tuotanto (MW)'] * 1000\n",
    "\n",
    "epr_pred_df.rename(columns={'Tuotanto (MW)': 'Tuotanto (kW)'}, inplace=True)\n",
    "\n",
    "# Replacing unnecessary letters and numbers\n",
    "epr_pred_df['Aika'] = epr_pred_df['Aika'].str.replace('T', ' ').str.replace('Z', '').str.replace('.000', '')\n",
    "\n",
    "print(epr_pred_df.head())"
   ]
  },
  {
   "cell_type": "code",
   "execution_count": 58,
   "metadata": {},
   "outputs": [
    {
     "name": "stdout",
     "output_type": "stream",
     "text": [
      "                    Aika  Tuotanto (kW)\n",
      "0    2024-10-08 13:00:00      9485860.0\n",
      "1    2024-10-08 13:15:00      9677640.0\n",
      "2    2024-10-08 13:30:00      9700340.0\n",
      "3    2024-10-08 13:45:00      9723720.0\n",
      "4    2024-10-08 14:00:00      9746830.0\n",
      "..                   ...            ...\n",
      "124  2024-10-09 20:00:00     11084500.0\n",
      "125  2024-10-09 20:15:00     10906000.0\n",
      "126  2024-10-09 20:30:00     10901900.0\n",
      "127  2024-10-09 20:45:00     10894300.0\n",
      "128  2024-10-09 21:00:00     10886900.0\n",
      "\n",
      "[129 rows x 2 columns]\n"
     ]
    }
   ],
   "source": [
    "# Reversing the values\n",
    "epr_pred_df['Aika'] = epr_pred_df['Aika'].values[::-1]\n",
    "epr_pred_df['Tuotanto (kW)'] = epr_pred_df['Tuotanto (kW)'].values[::-1]\n",
    "\n",
    "print(epr_pred_df)"
   ]
  },
  {
   "cell_type": "code",
   "execution_count": 60,
   "metadata": {},
   "outputs": [
    {
     "name": "stdout",
     "output_type": "stream",
     "text": [
      "                 Aika  Tuotanto (kW)\n",
      "0 2024-10-08 13:00:00      9646890.0\n",
      "1 2024-10-08 14:00:00      9942670.0\n",
      "2 2024-10-08 15:00:00     10193275.0\n",
      "3 2024-10-08 16:00:00     10416925.0\n",
      "4 2024-10-08 17:00:00     10514800.0\n"
     ]
    }
   ],
   "source": [
    "\n",
    "# Making sure that all time values are datetime objects\n",
    "epr_pred_df['Aika'] = pd.to_datetime(epr_pred_df['Aika'])\n",
    "\n",
    "# Taking the hourly mean of electricity production\n",
    "epr_pred_df.set_index('Aika', inplace=True)\n",
    "epr_pred_df = epr_pred_df.resample('h').mean().reset_index()\n",
    "\n",
    "# Restoring the columns\n",
    "epr_pred_df = epr_pred_df[['Aika', 'Tuotanto (kW)']]\n",
    "\n",
    "# Removing the duplicates\n",
    "epr_pred_df = epr_pred_df.loc[~epr_pred_df['Aika'].duplicated(keep='first')]\n",
    "\n",
    "print(epr_pred_df.head())"
   ]
  }
 ],
 "metadata": {
  "kernelspec": {
   "display_name": "Python 3",
   "language": "python",
   "name": "python3"
  },
  "language_info": {
   "codemirror_mode": {
    "name": "ipython",
    "version": 3
   },
   "file_extension": ".py",
   "mimetype": "text/x-python",
   "name": "python",
   "nbconvert_exporter": "python",
   "pygments_lexer": "ipython3",
   "version": "3.11.9"
  }
 },
 "nbformat": 4,
 "nbformat_minor": 2
}
