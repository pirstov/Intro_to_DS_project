{
 "cells": [
  {
   "cell_type": "code",
   "execution_count": 21,
   "metadata": {},
   "outputs": [],
   "source": [
    "import numpy as np\n"
   ]
  },
  {
   "cell_type": "code",
   "execution_count": 22,
   "metadata": {},
   "outputs": [
    {
     "data": {
      "text/plain": [
       "(32432, 7)"
      ]
     },
     "execution_count": 22,
     "metadata": {},
     "output_type": "execute_result"
    }
   ],
   "source": [
    "data = pd.read_csv('./.data/data.csv')\n",
    "data.shape"
   ]
  },
  {
   "cell_type": "code",
   "execution_count": 23,
   "metadata": {},
   "outputs": [
    {
     "data": {
      "text/html": [
       "<div>\n",
       "<style scoped>\n",
       "    .dataframe tbody tr th:only-of-type {\n",
       "        vertical-align: middle;\n",
       "    }\n",
       "\n",
       "    .dataframe tbody tr th {\n",
       "        vertical-align: top;\n",
       "    }\n",
       "\n",
       "    .dataframe thead th {\n",
       "        text-align: right;\n",
       "    }\n",
       "</style>\n",
       "<table border=\"1\" class=\"dataframe\">\n",
       "  <thead>\n",
       "    <tr style=\"text-align: right;\">\n",
       "      <th></th>\n",
       "      <th>Aika</th>\n",
       "      <th>Hinta (snt/kWh)</th>\n",
       "      <th>Keskituulen nopeus [m/s]</th>\n",
       "      <th>Lämpötilan keskiarvo [°C]</th>\n",
       "      <th>Kulutus (kWh/h)</th>\n",
       "      <th>Tuotanto (kW)</th>\n",
       "      <th>is_holiday</th>\n",
       "    </tr>\n",
       "  </thead>\n",
       "  <tbody>\n",
       "    <tr>\n",
       "      <th>0</th>\n",
       "      <td>2021-01-01 01:00:00</td>\n",
       "      <td>3.094</td>\n",
       "      <td>5.6</td>\n",
       "      <td>0.8</td>\n",
       "      <td>9206000.0</td>\n",
       "      <td>6.830650e+06</td>\n",
       "      <td>1</td>\n",
       "    </tr>\n",
       "    <tr>\n",
       "      <th>1</th>\n",
       "      <td>2021-01-01 02:00:00</td>\n",
       "      <td>3.019</td>\n",
       "      <td>4.8</td>\n",
       "      <td>0.7</td>\n",
       "      <td>9042000.0</td>\n",
       "      <td>6.853130e+06</td>\n",
       "      <td>1</td>\n",
       "    </tr>\n",
       "    <tr>\n",
       "      <th>2</th>\n",
       "      <td>2021-01-01 03:00:00</td>\n",
       "      <td>2.974</td>\n",
       "      <td>5.0</td>\n",
       "      <td>0.5</td>\n",
       "      <td>9010000.0</td>\n",
       "      <td>6.822395e+06</td>\n",
       "      <td>1</td>\n",
       "    </tr>\n",
       "    <tr>\n",
       "      <th>3</th>\n",
       "      <td>2021-01-01 04:00:00</td>\n",
       "      <td>2.941</td>\n",
       "      <td>4.6</td>\n",
       "      <td>0.4</td>\n",
       "      <td>9057000.0</td>\n",
       "      <td>6.912865e+06</td>\n",
       "      <td>1</td>\n",
       "    </tr>\n",
       "    <tr>\n",
       "      <th>4</th>\n",
       "      <td>2021-01-01 05:00:00</td>\n",
       "      <td>2.943</td>\n",
       "      <td>4.9</td>\n",
       "      <td>0.4</td>\n",
       "      <td>9219000.0</td>\n",
       "      <td>7.054030e+06</td>\n",
       "      <td>1</td>\n",
       "    </tr>\n",
       "    <tr>\n",
       "      <th>...</th>\n",
       "      <td>...</td>\n",
       "      <td>...</td>\n",
       "      <td>...</td>\n",
       "      <td>...</td>\n",
       "      <td>...</td>\n",
       "      <td>...</td>\n",
       "      <td>...</td>\n",
       "    </tr>\n",
       "    <tr>\n",
       "      <th>32427</th>\n",
       "      <td>2024-09-21 12:00:00</td>\n",
       "      <td>0.387</td>\n",
       "      <td>11.8</td>\n",
       "      <td>10.0</td>\n",
       "      <td>8062210.0</td>\n",
       "      <td>8.725515e+06</td>\n",
       "      <td>0</td>\n",
       "    </tr>\n",
       "    <tr>\n",
       "      <th>32428</th>\n",
       "      <td>2024-09-21 13:00:00</td>\n",
       "      <td>0.001</td>\n",
       "      <td>11.1</td>\n",
       "      <td>10.1</td>\n",
       "      <td>8202330.0</td>\n",
       "      <td>8.923810e+06</td>\n",
       "      <td>0</td>\n",
       "    </tr>\n",
       "    <tr>\n",
       "      <th>32429</th>\n",
       "      <td>2024-09-21 15:00:00</td>\n",
       "      <td>0.242</td>\n",
       "      <td>11.1</td>\n",
       "      <td>10.8</td>\n",
       "      <td>8498940.0</td>\n",
       "      <td>8.412320e+06</td>\n",
       "      <td>0</td>\n",
       "    </tr>\n",
       "    <tr>\n",
       "      <th>32430</th>\n",
       "      <td>2024-09-21 16:00:00</td>\n",
       "      <td>0.695</td>\n",
       "      <td>11.0</td>\n",
       "      <td>11.2</td>\n",
       "      <td>8282280.0</td>\n",
       "      <td>8.506920e+06</td>\n",
       "      <td>0</td>\n",
       "    </tr>\n",
       "    <tr>\n",
       "      <th>32431</th>\n",
       "      <td>2024-09-21 17:00:00</td>\n",
       "      <td>1.973</td>\n",
       "      <td>10.0</td>\n",
       "      <td>11.5</td>\n",
       "      <td>8345910.0</td>\n",
       "      <td>8.429305e+06</td>\n",
       "      <td>0</td>\n",
       "    </tr>\n",
       "  </tbody>\n",
       "</table>\n",
       "<p>32432 rows × 7 columns</p>\n",
       "</div>"
      ],
      "text/plain": [
       "                      Aika  Hinta (snt/kWh)  Keskituulen nopeus [m/s]  \\\n",
       "0      2021-01-01 01:00:00            3.094                       5.6   \n",
       "1      2021-01-01 02:00:00            3.019                       4.8   \n",
       "2      2021-01-01 03:00:00            2.974                       5.0   \n",
       "3      2021-01-01 04:00:00            2.941                       4.6   \n",
       "4      2021-01-01 05:00:00            2.943                       4.9   \n",
       "...                    ...              ...                       ...   \n",
       "32427  2024-09-21 12:00:00            0.387                      11.8   \n",
       "32428  2024-09-21 13:00:00            0.001                      11.1   \n",
       "32429  2024-09-21 15:00:00            0.242                      11.1   \n",
       "32430  2024-09-21 16:00:00            0.695                      11.0   \n",
       "32431  2024-09-21 17:00:00            1.973                      10.0   \n",
       "\n",
       "       Lämpötilan keskiarvo [°C]  Kulutus (kWh/h)  Tuotanto (kW)  is_holiday  \n",
       "0                            0.8        9206000.0   6.830650e+06           1  \n",
       "1                            0.7        9042000.0   6.853130e+06           1  \n",
       "2                            0.5        9010000.0   6.822395e+06           1  \n",
       "3                            0.4        9057000.0   6.912865e+06           1  \n",
       "4                            0.4        9219000.0   7.054030e+06           1  \n",
       "...                          ...              ...            ...         ...  \n",
       "32427                       10.0        8062210.0   8.725515e+06           0  \n",
       "32428                       10.1        8202330.0   8.923810e+06           0  \n",
       "32429                       10.8        8498940.0   8.412320e+06           0  \n",
       "32430                       11.2        8282280.0   8.506920e+06           0  \n",
       "32431                       11.5        8345910.0   8.429305e+06           0  \n",
       "\n",
       "[32432 rows x 7 columns]"
      ]
     },
     "execution_count": 23,
     "metadata": {},
     "output_type": "execute_result"
    }
   ],
   "source": [
    "data"
   ]
  },
  {
   "cell_type": "code",
   "execution_count": 24,
   "metadata": {},
   "outputs": [
    {
     "data": {
      "text/html": [
       "<div>\n",
       "<style scoped>\n",
       "    .dataframe tbody tr th:only-of-type {\n",
       "        vertical-align: middle;\n",
       "    }\n",
       "\n",
       "    .dataframe tbody tr th {\n",
       "        vertical-align: top;\n",
       "    }\n",
       "\n",
       "    .dataframe thead th {\n",
       "        text-align: right;\n",
       "    }\n",
       "</style>\n",
       "<table border=\"1\" class=\"dataframe\">\n",
       "  <thead>\n",
       "    <tr style=\"text-align: right;\">\n",
       "      <th></th>\n",
       "      <th>Hinta (snt/kWh)</th>\n",
       "      <th>Keskituulen nopeus [m/s]</th>\n",
       "      <th>Lämpötilan keskiarvo [°C]</th>\n",
       "      <th>Kulutus (kWh/h)</th>\n",
       "      <th>Tuotanto (kW)</th>\n",
       "      <th>is_holiday</th>\n",
       "    </tr>\n",
       "  </thead>\n",
       "  <tbody>\n",
       "    <tr>\n",
       "      <th>count</th>\n",
       "      <td>32432.000000</td>\n",
       "      <td>32432.000000</td>\n",
       "      <td>32432.000000</td>\n",
       "      <td>3.243200e+04</td>\n",
       "      <td>3.243200e+04</td>\n",
       "      <td>32432.000000</td>\n",
       "    </tr>\n",
       "    <tr>\n",
       "      <th>mean</th>\n",
       "      <td>10.407546</td>\n",
       "      <td>6.625771</td>\n",
       "      <td>4.625648</td>\n",
       "      <td>9.244002e+06</td>\n",
       "      <td>8.162133e+06</td>\n",
       "      <td>0.034657</td>\n",
       "    </tr>\n",
       "    <tr>\n",
       "      <th>std</th>\n",
       "      <td>11.912487</td>\n",
       "      <td>3.193132</td>\n",
       "      <td>8.645704</td>\n",
       "      <td>1.604496e+06</td>\n",
       "      <td>1.589415e+06</td>\n",
       "      <td>0.182913</td>\n",
       "    </tr>\n",
       "    <tr>\n",
       "      <th>min</th>\n",
       "      <td>-6.004000</td>\n",
       "      <td>0.400000</td>\n",
       "      <td>-20.000000</td>\n",
       "      <td>5.675000e+06</td>\n",
       "      <td>4.159655e+06</td>\n",
       "      <td>0.000000</td>\n",
       "    </tr>\n",
       "    <tr>\n",
       "      <th>25%</th>\n",
       "      <td>2.995000</td>\n",
       "      <td>4.300000</td>\n",
       "      <td>-1.500000</td>\n",
       "      <td>8.035000e+06</td>\n",
       "      <td>7.030019e+06</td>\n",
       "      <td>0.000000</td>\n",
       "    </tr>\n",
       "    <tr>\n",
       "      <th>50%</th>\n",
       "      <td>6.870500</td>\n",
       "      <td>6.300000</td>\n",
       "      <td>2.700000</td>\n",
       "      <td>8.942000e+06</td>\n",
       "      <td>8.040290e+06</td>\n",
       "      <td>0.000000</td>\n",
       "    </tr>\n",
       "    <tr>\n",
       "      <th>75%</th>\n",
       "      <td>13.080250</td>\n",
       "      <td>8.600000</td>\n",
       "      <td>12.500000</td>\n",
       "      <td>1.034325e+07</td>\n",
       "      <td>9.127366e+06</td>\n",
       "      <td>0.000000</td>\n",
       "    </tr>\n",
       "    <tr>\n",
       "      <th>max</th>\n",
       "      <td>235.104000</td>\n",
       "      <td>22.200000</td>\n",
       "      <td>25.800000</td>\n",
       "      <td>1.496300e+07</td>\n",
       "      <td>1.424490e+07</td>\n",
       "      <td>1.000000</td>\n",
       "    </tr>\n",
       "  </tbody>\n",
       "</table>\n",
       "</div>"
      ],
      "text/plain": [
       "       Hinta (snt/kWh)  Keskituulen nopeus [m/s]  Lämpötilan keskiarvo [°C]  \\\n",
       "count     32432.000000              32432.000000               32432.000000   \n",
       "mean         10.407546                  6.625771                   4.625648   \n",
       "std          11.912487                  3.193132                   8.645704   \n",
       "min          -6.004000                  0.400000                 -20.000000   \n",
       "25%           2.995000                  4.300000                  -1.500000   \n",
       "50%           6.870500                  6.300000                   2.700000   \n",
       "75%          13.080250                  8.600000                  12.500000   \n",
       "max         235.104000                 22.200000                  25.800000   \n",
       "\n",
       "       Kulutus (kWh/h)  Tuotanto (kW)    is_holiday  \n",
       "count     3.243200e+04   3.243200e+04  32432.000000  \n",
       "mean      9.244002e+06   8.162133e+06      0.034657  \n",
       "std       1.604496e+06   1.589415e+06      0.182913  \n",
       "min       5.675000e+06   4.159655e+06      0.000000  \n",
       "25%       8.035000e+06   7.030019e+06      0.000000  \n",
       "50%       8.942000e+06   8.040290e+06      0.000000  \n",
       "75%       1.034325e+07   9.127366e+06      0.000000  \n",
       "max       1.496300e+07   1.424490e+07      1.000000  "
      ]
     },
     "execution_count": 24,
     "metadata": {},
     "output_type": "execute_result"
    }
   ],
   "source": [
    "data.describe()"
   ]
  },
  {
   "cell_type": "markdown",
   "metadata": {},
   "source": [
    "## XGBoost Model"
   ]
  },
  {
   "cell_type": "code",
   "execution_count": 25,
   "metadata": {},
   "outputs": [],
   "source": [
    "import pandas as pd\n",
    "from xgboost import XGBRegressor\n",
    "from sklearn.metrics import mean_squared_error, mean_absolute_error, r2_score\n",
    "import joblib\n",
    "import matplotlib.pyplot as plt\n",
    "import seaborn as sns"
   ]
  },
  {
   "cell_type": "code",
   "execution_count": 26,
   "metadata": {},
   "outputs": [
    {
     "name": "stdout",
     "output_type": "stream",
     "text": [
      "Splitting \n",
      "Sequential split complete. Train shape: (22702, 7), Val shape: (6486, 7), Test shape: (3244, 7)\n"
     ]
    }
   ],
   "source": [
    "# Split data\n",
    "\n",
    "data = data.rename(columns={\n",
    "    'Aika': 'Aika',  # Keep the same\n",
    "    'Hinta (snt/kWh)': 'Hinta_snt_per_kWh',\n",
    "    'Keskituulen nopeus [m/s]': 'Keskituulen_nopeus_m_per_s',\n",
    "    'Lämpötilan keskiarvo [°C]': 'Lampotilan_keskiarvo_C',\n",
    "    'Kulutus (kWh/h)': 'Kulutus_kWh_per_h',\n",
    "    'Tuotanto (kW)': 'Tuotanto_kW',\n",
    "    'is_holiday': 'is_holiday'  \n",
    "})\n",
    "\n",
    "train_ratio = 0.7 # 70%\n",
    "val_ratio = 0.2 # 20%\n",
    "\n",
    "print(\"Splitting \")\n",
    "n = len(data)\n",
    "train_end = int(n * train_ratio)\n",
    "val_end = train_end + int(n * val_ratio)\n",
    "\n",
    "train_df = data.iloc[:train_end]\n",
    "val_df = data.iloc[train_end:val_end]\n",
    "test_df = data.iloc[val_end:]\n",
    "\n",
    "print(f\"Sequential split complete. Train shape: {train_df.shape}, Val shape: {val_df.shape}, Test shape: {test_df.shape}\")"
   ]
  },
  {
   "cell_type": "code",
   "execution_count": 27,
   "metadata": {},
   "outputs": [
    {
     "data": {
      "text/plain": [
       "Index(['Aika', 'Hinta_snt_per_kWh', 'Keskituulen_nopeus_m_per_s',\n",
       "       'Lampotilan_keskiarvo_C', 'Kulutus_kWh_per_h', 'Tuotanto_kW',\n",
       "       'is_holiday'],\n",
       "      dtype='object')"
      ]
     },
     "execution_count": 27,
     "metadata": {},
     "output_type": "execute_result"
    }
   ],
   "source": [
    "train_df.columns"
   ]
  },
  {
   "cell_type": "code",
   "execution_count": 28,
   "metadata": {},
   "outputs": [],
   "source": [
    "columns_to_drop = ['Aika','Hinta_snt_per_kWh']\n",
    "target_col = 'Hinta_snt_per_kWh'\n",
    "\n",
    "X_train = train_df.drop(columns=columns_to_drop)\n",
    "X_val = val_df.drop(columns=columns_to_drop)\n",
    "X_test = test_df.drop(columns=columns_to_drop)\n",
    "y_train = train_df[target_col]\n",
    "y_val = val_df[target_col]\n",
    "y_test = test_df[target_col]\n",
    "\n",
    "X_train_val = pd.concat([X_train, X_val], axis=0)\n",
    "y_train_val = pd.concat([y_train, y_val], axis=0)"
   ]
  },
  {
   "cell_type": "code",
   "execution_count": 29,
   "metadata": {},
   "outputs": [
    {
     "name": "stdout",
     "output_type": "stream",
     "text": [
      "Training model...\n"
     ]
    },
    {
     "data": {
      "text/plain": [
       "['./.model/xgboost/xgboost_model.pkl']"
      ]
     },
     "execution_count": 29,
     "metadata": {},
     "output_type": "execute_result"
    }
   ],
   "source": [
    "print(\"Training model...\")\n",
    "model = XGBRegressor()\n",
    "model.fit(X_train_val, y_train_val, verbose=False)\n",
    "joblib.dump(model, './.model/xgboost/xgboost_model.pkl')"
   ]
  },
  {
   "cell_type": "code",
   "execution_count": 30,
   "metadata": {},
   "outputs": [
    {
     "name": "stdout",
     "output_type": "stream",
     "text": [
      "Evaluating model performance...\n",
      "MAE (Mean Absolute Error) on Test Set: 8.87\n",
      "MSE (Mean Squared Error) on Test Set: 164.41\n",
      "RMSE (Root Mean Squared Error) on Test Set: 12.82\n",
      "R² (Coefficient of Determination) on Test Set: -4.47\n",
      "MAPE (Mean Absolute Percentage Error) on Test Set: inf%\n"
     ]
    }
   ],
   "source": [
    "y_pred = model.predict(X_test)\n",
    "\n",
    "print(\"Evaluating model performance...\")\n",
    "mae_test = mean_absolute_error(y_test, y_pred)\n",
    "mse_test = mean_squared_error(y_test, y_pred)\n",
    "rmse_test = np.sqrt(mse_test)\n",
    "r2_test = r2_score(y_test, y_pred)\n",
    "mape_test = np.mean(np.abs((y_test - y_pred) / y_test)) * 100\n",
    "\n",
    "print(f\"MAE (Mean Absolute Error) on Test Set: {mae_test:.2f}\")\n",
    "print(f\"MSE (Mean Squared Error) on Test Set: {mse_test:.2f}\")\n",
    "print(f\"RMSE (Root Mean Squared Error) on Test Set: {rmse_test:.2f}\")\n",
    "print(f\"R² (Coefficient of Determination) on Test Set: {r2_test:.2f}\")\n",
    "print(f\"MAPE (Mean Absolute Percentage Error) on Test Set: {mape_test:.2f}%\")"
   ]
  },
  {
   "cell_type": "code",
   "execution_count": 31,
   "metadata": {},
   "outputs": [],
   "source": [
    "sns.set(style=\"whitegrid\")\n",
    "\n",
    "plt.figure(figsize=(14, 7))\n",
    "plt.plot(test_df.index, y_test, 'g-', label='The real value', linewidth=2)\n",
    "plt.plot(test_df.index, y_pred, 'r--', label='The predicted value', linewidth=2)\n",
    "plt.title(f'XGBOOST Real vs Predicted', fontsize=16)\n",
    "plt.xlabel('Data Point', fontsize=14)\n",
    "plt.ylabel('Price', fontsize=14)\n",
    "plt.legend(fontsize=12)\n",
    "plt.tight_layout()\n",
    "plt.savefig('./.model/xgboost/real_predicted_plot.png')\n",
    "plt.close()\n"
   ]
  }
 ],
 "metadata": {
  "kernelspec": {
   "display_name": "base",
   "language": "python",
   "name": "python3"
  },
  "language_info": {
   "codemirror_mode": {
    "name": "ipython",
    "version": 3
   },
   "file_extension": ".py",
   "mimetype": "text/x-python",
   "name": "python",
   "nbconvert_exporter": "python",
   "pygments_lexer": "ipython3",
   "version": "3.11.5"
  }
 },
 "nbformat": 4,
 "nbformat_minor": 2
}
