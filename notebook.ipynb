{
 "cells": [
  {
   "cell_type": "code",
   "execution_count": 70,
   "metadata": {},
   "outputs": [
    {
     "name": "stdout",
     "output_type": "stream",
     "text": [
      "                 Aika  Hinta (snt/kWh)\n",
      "0 2021-01-01 00:59:11            3.094\n",
      "1 2021-01-01 01:59:11            3.019\n",
      "2 2021-01-01 02:59:11            2.974\n",
      "3 2021-01-01 03:59:11            2.941\n",
      "4 2021-01-01 04:59:11            2.943\n",
      "--------------------------------------------------\n",
      "        Havaintoasema  Vuosi  Kuukausi  Päivä Aika [Paikallinen aika]  \\\n",
      "0  Kalajoki Ulkokalla   2021         1      1                   00:00   \n",
      "1  Kalajoki Ulkokalla   2021         1      1                   01:00   \n",
      "2  Kalajoki Ulkokalla   2021         1      1                   02:00   \n",
      "3  Kalajoki Ulkokalla   2021         1      1                   03:00   \n",
      "4  Kalajoki Ulkokalla   2021         1      1                   04:00   \n",
      "\n",
      "  Keskituulen nopeus [m/s] Lämpötilan keskiarvo [°C]  \n",
      "0                      6.2                         1  \n",
      "1                      5.6                       0.8  \n",
      "2                      4.8                       0.7  \n",
      "3                        5                       0.5  \n",
      "4                      4.6                       0.4  \n"
     ]
    }
   ],
   "source": [
    "# This file contains readers for the data used in the project\n",
    "import pandas as pd\n",
    "\n",
    "# Data sources\n",
    "# Electricity: https://porssisahko.net/tilastot\n",
    "# weather: https://www.ilmatieteenlaitos.fi/havaintojen-lataus\n",
    "ep_df = pd.read_excel(\"Electricity_price-010121-220924.xlsx\", header = 3)   # Some useless rows at the beginning of the file\n",
    "ws_df = pd.read_excel('Kalajoki_Ulkokalla_wind_010121-210924.xlsx') \n",
    "\n",
    "print(ep_df.head())\n",
    "print(50*\"-\")\n",
    "print(ws_df.head())\n"
   ]
  },
  {
   "cell_type": "code",
   "execution_count": 71,
   "metadata": {},
   "outputs": [
    {
     "name": "stdout",
     "output_type": "stream",
     "text": [
      "                 Aika  Hinta (snt/kWh)\n",
      "0 2021-01-01 01:00:00            3.094\n",
      "1 2021-01-01 02:00:00            3.019\n",
      "2 2021-01-01 03:00:00            2.974\n",
      "3 2021-01-01 04:00:00            2.941\n",
      "4 2021-01-01 05:00:00            2.943\n",
      "--------------------------------------------------\n",
      "        Havaintoasema Keskituulen nopeus [m/s] Lämpötilan keskiarvo [°C]  \\\n",
      "0  Kalajoki Ulkokalla                      6.2                         1   \n",
      "1  Kalajoki Ulkokalla                      5.6                       0.8   \n",
      "2  Kalajoki Ulkokalla                      4.8                       0.7   \n",
      "3  Kalajoki Ulkokalla                        5                       0.5   \n",
      "4  Kalajoki Ulkokalla                      4.6                       0.4   \n",
      "\n",
      "                 Aika  \n",
      "0 2021-01-01 00:00:00  \n",
      "1 2021-01-01 01:00:00  \n",
      "2 2021-01-01 02:00:00  \n",
      "3 2021-01-01 03:00:00  \n",
      "4 2021-01-01 04:00:00  \n"
     ]
    }
   ],
   "source": [
    "# Format the time column of the dataframes to match one another\n",
    "from datetime import timedelta\n",
    "ep_df['Aika'] = ep_df['Aika'] + timedelta(seconds=49)\n",
    "print(ep_df.head())\n",
    "print(50*\"-\")\n",
    "\n",
    "# Rename wind data time columns to enable application of to_datetime call\n",
    "ws_df['Aika [Paikallinen aika]'] = ws_df['Aika [Paikallinen aika]'].apply(lambda x: int(x.split(\":\")[0]))\n",
    "ws_df.rename(columns={'Vuosi': 'year', 'Kuukausi': 'month', 'Päivä': 'day', 'Aika [Paikallinen aika]': 'hour'}, inplace=True)\n",
    "\n",
    "ws_df['Aika'] = pd.to_datetime(ws_df[['year', 'month', 'day', 'hour']])\n",
    "# Remove the now obsolete time-related columns\n",
    "ws_df.drop(['year','month','day','hour'], axis=1, inplace=True)\n",
    "\n",
    "print(ws_df.head())"
   ]
  },
  {
   "cell_type": "code",
   "execution_count": null,
   "metadata": {},
   "outputs": [],
   "source": []
  }
 ],
 "metadata": {
  "kernelspec": {
   "display_name": "Python 3",
   "language": "python",
   "name": "python3"
  },
  "language_info": {
   "codemirror_mode": {
    "name": "ipython",
    "version": 3
   },
   "file_extension": ".py",
   "mimetype": "text/x-python",
   "name": "python",
   "nbconvert_exporter": "python",
   "pygments_lexer": "ipython3",
   "version": "3.9.4"
  }
 },
 "nbformat": 4,
 "nbformat_minor": 2
}
