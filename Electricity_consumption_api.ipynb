{
 "cells": [
  {
   "cell_type": "code",
   "execution_count": 6,
   "metadata": {},
   "outputs": [
    {
     "name": "stdout",
     "output_type": "stream",
     "text": [
      "     datasetId                 startTime                   endTime   value\n",
      "0          165  2024-10-10T12:45:00.000Z  2024-10-10T13:00:00.000Z  9279.1\n",
      "1          165  2024-10-10T12:30:00.000Z  2024-10-10T12:45:00.000Z  9283.8\n",
      "2          165  2024-10-10T12:15:00.000Z  2024-10-10T12:30:00.000Z  9291.7\n",
      "3          165  2024-10-10T12:00:00.000Z  2024-10-10T12:15:00.000Z  9304.0\n",
      "4          165  2024-10-10T11:45:00.000Z  2024-10-10T12:00:00.000Z  9313.3\n",
      "..         ...                       ...                       ...     ...\n",
      "186        165  2024-10-08T14:15:00.000Z  2024-10-08T14:30:00.000Z  8999.1\n",
      "187        165  2024-10-08T14:00:00.000Z  2024-10-08T14:15:00.000Z  8979.9\n",
      "188        165  2024-10-08T13:45:00.000Z  2024-10-08T14:00:00.000Z  8967.7\n",
      "189        165  2024-10-08T13:30:00.000Z  2024-10-08T13:45:00.000Z  8960.2\n",
      "190        165  2024-10-08T13:15:00.000Z  2024-10-08T13:30:00.000Z  8951.0\n",
      "\n",
      "[191 rows x 4 columns]\n"
     ]
    }
   ],
   "source": [
    "import sys\n",
    "import requests\n",
    "import json\n",
    "from datetime import datetime\n",
    "from dateutil.relativedelta import relativedelta\n",
    "import pandas as pd\n",
    "import matplotlib as plt\n",
    "import matplotlib.pyplot as pyplot\n",
    "import os\n",
    "\n",
    "# Electricity consumption forecast - next 24 hours: https://data.fingrid.fi/en/datasets/165\n",
    "\n",
    "api_key = '3010957519b04fdc94439b784a78d4fe'\n",
    "\n",
    "ts=datetime.now()\n",
    "\n",
    "ts1=ts+relativedelta(hours=-24)\n",
    "ts2=ts+relativedelta(hours=24)\n",
    "\n",
    "# Creating start and end time variables\n",
    "dt_str1 = ts1.strftime(\"%Y-%m-%dT%H:%M:%S.000Z\")\n",
    "dt_str2 = ts2.strftime(\"%Y-%m-%dT%H:%M:%S.000Z\")\n",
    "\n",
    "url='https://data.fingrid.fi/api/datasets/165/data'\n",
    "\n",
    "headers ={'x-api-key': api_key}\n",
    "\n",
    "params={'startTime': dt_str1, 'endTime': dt_str2, 'pageSize': 2000}\n",
    "\n",
    "response = requests.get(url, headers=headers,params=params)\n",
    "x = response.json()\n",
    "ec_pred_df = pd.DataFrame(x['data'])\n",
    "print(ec_pred_df)"
   ]
  },
  {
   "cell_type": "code",
   "execution_count": 7,
   "metadata": {},
   "outputs": [
    {
     "name": "stdout",
     "output_type": "stream",
     "text": [
      "                  Aika  Kulutus (kW)\n",
      "0  2024-10-10 13:00:00     9279100.0\n",
      "1  2024-10-10 12:45:00     9283800.0\n",
      "2  2024-10-10 12:30:00     9291700.0\n",
      "3  2024-10-10 12:15:00     9304000.0\n",
      "4  2024-10-10 12:00:00     9313300.0\n"
     ]
    }
   ],
   "source": [
    "# Let's drop the first column\n",
    "ec_pred_df = ec_pred_df.drop(['datasetId'], axis=1)\n",
    "\n",
    "# Changing the names of the columns\n",
    "ec_pred_columns = ['Aika', 'Kulutus (MW)']\n",
    "\n",
    "if ec_pred_df.columns.tolist() != ec_pred_columns:\n",
    "    ec_pred_df.columns = ['Ylimääräinen', 'Aika', 'Kulutus (MW)']\n",
    "\n",
    "ec_pred_df = ec_pred_df[ec_pred_columns]\n",
    "\n",
    "# Changing MW to kW\n",
    "ec_pred_df['Kulutus (MW)'] = ec_pred_df['Kulutus (MW)'] * 1000\n",
    "\n",
    "ec_pred_df.rename(columns={'Kulutus (MW)': 'Kulutus (kW)'}, inplace=True)\n",
    "\n",
    "# Replacing unnecessary letters and numbers\n",
    "ec_pred_df['Aika'] = ec_pred_df['Aika'].str.replace('T', ' ').str.replace('Z', '').str.replace('.000', '')\n",
    "\n",
    "print(ec_pred_df.head())"
   ]
  },
  {
   "cell_type": "code",
   "execution_count": 8,
   "metadata": {},
   "outputs": [
    {
     "name": "stdout",
     "output_type": "stream",
     "text": [
      "                    Aika  Kulutus (kW)\n",
      "0    2024-10-08 13:30:00     8951000.0\n",
      "1    2024-10-08 13:45:00     8960200.0\n",
      "2    2024-10-08 14:00:00     8967700.0\n",
      "3    2024-10-08 14:15:00     8979900.0\n",
      "4    2024-10-08 14:30:00     8999100.0\n",
      "..                   ...           ...\n",
      "186  2024-10-10 12:00:00     9313300.0\n",
      "187  2024-10-10 12:15:00     9304000.0\n",
      "188  2024-10-10 12:30:00     9291700.0\n",
      "189  2024-10-10 12:45:00     9283800.0\n",
      "190  2024-10-10 13:00:00     9279100.0\n",
      "\n",
      "[191 rows x 2 columns]\n"
     ]
    }
   ],
   "source": [
    "# Reversing the values\n",
    "ec_pred_df['Aika'] = ec_pred_df['Aika'].values[::-1]\n",
    "ec_pred_df['Kulutus (kW)'] = ec_pred_df['Kulutus (kW)'].values[::-1]\n",
    "\n",
    "print(ec_pred_df)"
   ]
  },
  {
   "cell_type": "code",
   "execution_count": 10,
   "metadata": {},
   "outputs": [
    {
     "name": "stdout",
     "output_type": "stream",
     "text": [
      "                  Aika  Kulutus (kW)\n",
      "0  2024-10-08 13:00:00     8955600.0\n",
      "1  2024-10-08 14:00:00     8989250.0\n",
      "2  2024-10-08 15:00:00     9009050.0\n",
      "3  2024-10-08 16:00:00     9104875.0\n",
      "4  2024-10-08 17:00:00     9189950.0\n",
      "5  2024-10-08 18:00:00     9014625.0\n",
      "6  2024-10-08 19:00:00     8868725.0\n",
      "7  2024-10-08 20:00:00     8775550.0\n",
      "8  2024-10-08 21:00:00     8558525.0\n",
      "9  2024-10-08 22:00:00     8358125.0\n",
      "10 2024-10-08 23:00:00     8191325.0\n",
      "11 2024-10-09 00:00:00     8085425.0\n",
      "12 2024-10-09 01:00:00     8062825.0\n",
      "13 2024-10-09 02:00:00     8152950.0\n",
      "14 2024-10-09 03:00:00     8511725.0\n",
      "15 2024-10-09 04:00:00     8942650.0\n",
      "16 2024-10-09 05:00:00     9166525.0\n",
      "17 2024-10-09 06:00:00     9281000.0\n",
      "18 2024-10-09 07:00:00     9322775.0\n",
      "19 2024-10-09 08:00:00     9310550.0\n",
      "20 2024-10-09 09:00:00     9304525.0\n",
      "21 2024-10-09 10:00:00     9202600.0\n",
      "22 2024-10-09 11:00:00     9117450.0\n",
      "23 2024-10-09 12:00:00     9123650.0\n",
      "24 2024-10-09 13:00:00     9130775.0\n",
      "25 2024-10-09 14:00:00     9151025.0\n",
      "26 2024-10-09 15:00:00     9169250.0\n",
      "27 2024-10-09 16:00:00     9317200.0\n",
      "28 2024-10-09 17:00:00     9395875.0\n",
      "29 2024-10-09 18:00:00     9160800.0\n",
      "30 2024-10-09 19:00:00     9008650.0\n",
      "31 2024-10-09 20:00:00     8900625.0\n",
      "32 2024-10-09 21:00:00     8693475.0\n",
      "33 2024-10-09 22:00:00     8481450.0\n",
      "34 2024-10-09 23:00:00     8279475.0\n",
      "35 2024-10-10 00:00:00     8170275.0\n",
      "36 2024-10-10 01:00:00     8122550.0\n",
      "37 2024-10-10 02:00:00     8217975.0\n",
      "38 2024-10-10 03:00:00     8643675.0\n",
      "39 2024-10-10 04:00:00     9146325.0\n",
      "40 2024-10-10 05:00:00     9381575.0\n",
      "41 2024-10-10 06:00:00     9504500.0\n",
      "42 2024-10-10 07:00:00     9627300.0\n",
      "43 2024-10-10 08:00:00     9597175.0\n",
      "44 2024-10-10 09:00:00     9482000.0\n",
      "45 2024-10-10 10:00:00     9401075.0\n",
      "46 2024-10-10 11:00:00     9327575.0\n",
      "47 2024-10-10 12:00:00     9298200.0\n",
      "48 2024-10-10 13:00:00     9279100.0\n"
     ]
    }
   ],
   "source": [
    "# Making sure that all time values are datetime objects\n",
    "ec_pred_df['Aika'] = pd.to_datetime(ec_pred_df['Aika'])\n",
    "\n",
    "# Taking the hourly mean of electricity production\n",
    "ec_pred_df.set_index('Aika', inplace=True)\n",
    "ec_pred_df = ec_pred_df.resample('h').mean().reset_index()\n",
    "\n",
    "# Restoring the columns\n",
    "ec_pred_df = ec_pred_df[['Aika', 'Kulutus (kW)']]\n",
    "\n",
    "# Removing the duplicates\n",
    "ec_pred_df = ec_pred_df.loc[~ec_pred_df['Aika'].duplicated(keep='first')]\n",
    "\n",
    "print(ec_pred_df)"
   ]
  }
 ],
 "metadata": {
  "kernelspec": {
   "display_name": "Python 3",
   "language": "python",
   "name": "python3"
  },
  "language_info": {
   "codemirror_mode": {
    "name": "ipython",
    "version": 3
   },
   "file_extension": ".py",
   "mimetype": "text/x-python",
   "name": "python",
   "nbconvert_exporter": "python",
   "pygments_lexer": "ipython3",
   "version": "3.11.9"
  }
 },
 "nbformat": 4,
 "nbformat_minor": 2
}
